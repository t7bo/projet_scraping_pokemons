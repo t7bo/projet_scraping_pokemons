{
 "cells": [
  {
   "cell_type": "code",
   "execution_count": 5,
   "metadata": {},
   "outputs": [
    {
     "name": "stdout",
     "output_type": "stream",
     "text": [
      "23\n"
     ]
    }
   ],
   "source": [
    "number = 10\n",
    "\n",
    "if number < 0:\n",
    "    print(0)\n",
    "else:\n",
    "    liste_multiples = []\n",
    "    liste_chiffres = range(0, number, 1)\n",
    "    for chiffre in liste_chiffres:\n",
    "        if chiffre % 3 == 0 or chiffre % 5 == 0:\n",
    "            liste_multiples.append(chiffre)\n",
    "    print(sum(liste_multiples))"
   ]
  },
  {
   "cell_type": "code",
   "execution_count": 6,
   "metadata": {},
   "outputs": [
    {
     "name": "stdout",
     "output_type": "stream",
     "text": [
      "[1, 2, 1, 1, 0, 0, 0, 0]\n"
     ]
    }
   ],
   "source": [
    "lst = [1, 0, 2, 0, 1, 0, 0, 1]\n",
    "\n",
    "for chiffre in lst:\n",
    "    if chiffre == 0:\n",
    "        lst.remove(0)\n",
    "        lst.append(0)\n",
    "\n",
    "print(lst)"
   ]
  },
  {
   "cell_type": "code",
   "execution_count": 13,
   "metadata": {},
   "outputs": [
    {
     "data": {
      "text/plain": [
       "{'a': 4, 'b': 1}"
      ]
     },
     "execution_count": 13,
     "metadata": {},
     "output_type": "execute_result"
    }
   ],
   "source": [
    "s = \"aaaba\"\n",
    "dico = {}\n",
    "\n",
    "for letter in s:\n",
    "    dico[letter] = 0\n",
    "\n",
    "for letter in s:\n",
    "    dico[letter] += 1\n",
    "\n",
    "dico"
   ]
  },
  {
   "cell_type": "code",
   "execution_count": 62,
   "metadata": {},
   "outputs": [
    {
     "data": {
      "text/plain": [
       "654321"
      ]
     },
     "execution_count": 62,
     "metadata": {},
     "output_type": "execute_result"
    }
   ],
   "source": [
    "num = 162345\n",
    "liste = []\n",
    "\n",
    "for chiffre in str(num):\n",
    "    liste.append(chiffre)\n",
    "    liste = sorted(liste, reverse=True)\n",
    "\n",
    "number = int(\"\".join(liste))\n",
    "number \n"
   ]
  },
  {
   "cell_type": "code",
   "execution_count": 71,
   "metadata": {},
   "outputs": [
    {
     "data": {
      "text/plain": [
       "'bc'"
      ]
     },
     "execution_count": 71,
     "metadata": {},
     "output_type": "execute_result"
    }
   ],
   "source": [
    "s = \"abcd\"\n",
    "\n",
    "s = list(s)\n",
    "\n",
    "del s[0]\n",
    "del s[-1]\n",
    "\n",
    "s = str(\"\".join(s))\n",
    "s"
   ]
  },
  {
   "cell_type": "code",
   "execution_count": 89,
   "metadata": {},
   "outputs": [
    {
     "data": {
      "text/plain": [
       "{1, 3, 4}"
      ]
     },
     "execution_count": 89,
     "metadata": {},
     "output_type": "execute_result"
    }
   ],
   "source": [
    "arr = [1,2,3,3,4,4,1,\"1\"]\n",
    "\n",
    "sett = set(arr)\n",
    "liste_doublons = []\n",
    "\n",
    "for chiffre in arr:\n",
    "    if arr.count(chiffre) > 1:\n",
    "        liste_doublons.append(chiffre)\n",
    "        set_doublons = set(liste_doublons)\n",
    "\n",
    "# liste_doublons = []\n",
    "    \n",
    "# for chiffre in arr:\n",
    "#     if chiffre in sett and chiffre in arr: \n",
    "#         liste_doublons.append(chiffre)\n",
    "\n",
    "# liste_doublons  \n",
    "\n",
    "set_doublons "
   ]
  },
  {
   "cell_type": "code",
   "execution_count": 84,
   "metadata": {},
   "outputs": [
    {
     "ename": "TypeError",
     "evalue": "object of type 'int' has no len()",
     "output_type": "error",
     "traceback": [
      "\u001b[0;31m---------------------------------------------------------------------------\u001b[0m",
      "\u001b[0;31mTypeError\u001b[0m                                 Traceback (most recent call last)",
      "\u001b[1;32m/home/utilisateur/Documents/projets/projet_scraping_pokemons/projet_scraping_pokemons/codewars.ipynb Cell 7\u001b[0m line \u001b[0;36m2\n\u001b[1;32m      <a href='vscode-notebook-cell:/home/utilisateur/Documents/projets/projet_scraping_pokemons/projet_scraping_pokemons/codewars.ipynb#X10sZmlsZQ%3D%3D?line=0'>1</a>\u001b[0m arr \u001b[39m=\u001b[39m [\u001b[39m1\u001b[39m,\u001b[39m2\u001b[39m,\u001b[39m3\u001b[39m,\u001b[39m3\u001b[39m,\u001b[39m4\u001b[39m,\u001b[39m4\u001b[39m,\u001b[39m1\u001b[39m,\u001b[39m\"\u001b[39m\u001b[39m1\u001b[39m\u001b[39m\"\u001b[39m]\n\u001b[0;32m----> <a href='vscode-notebook-cell:/home/utilisateur/Documents/projets/projet_scraping_pokemons/projet_scraping_pokemons/codewars.ipynb#X10sZmlsZQ%3D%3D?line=1'>2</a>\u001b[0m \u001b[39mlen\u001b[39;49m(arr[\u001b[39m0\u001b[39;49m])\n",
      "\u001b[0;31mTypeError\u001b[0m: object of type 'int' has no len()"
     ]
    }
   ],
   "source": []
  },
  {
   "cell_type": "code",
   "execution_count": null,
   "metadata": {},
   "outputs": [],
   "source": []
  }
 ],
 "metadata": {
  "kernelspec": {
   "display_name": "Python 3",
   "language": "python",
   "name": "python3"
  },
  "language_info": {
   "codemirror_mode": {
    "name": "ipython",
    "version": 3
   },
   "file_extension": ".py",
   "mimetype": "text/x-python",
   "name": "python",
   "nbconvert_exporter": "python",
   "pygments_lexer": "ipython3",
   "version": "3.11.0rc1"
  }
 },
 "nbformat": 4,
 "nbformat_minor": 2
}
